{
 "cells": [
  {
   "cell_type": "code",
   "execution_count": 1,
   "metadata": {},
   "outputs": [],
   "source": [
    "import pandas as pd"
   ]
  },
  {
   "cell_type": "code",
   "execution_count": 2,
   "metadata": {},
   "outputs": [],
   "source": [
    "df = pd.read_csv('../data/zillow_data.csv')"
   ]
  },
  {
   "cell_type": "code",
   "execution_count": 3,
   "metadata": {
    "scrolled": true
   },
   "outputs": [
    {
     "data": {
      "text/html": [
       "<div>\n",
       "<style scoped>\n",
       "    .dataframe tbody tr th:only-of-type {\n",
       "        vertical-align: middle;\n",
       "    }\n",
       "\n",
       "    .dataframe tbody tr th {\n",
       "        vertical-align: top;\n",
       "    }\n",
       "\n",
       "    .dataframe thead th {\n",
       "        text-align: right;\n",
       "    }\n",
       "</style>\n",
       "<table border=\"1\" class=\"dataframe\">\n",
       "  <thead>\n",
       "    <tr style=\"text-align: right;\">\n",
       "      <th></th>\n",
       "      <th>RegionID</th>\n",
       "      <th>RegionName</th>\n",
       "      <th>City</th>\n",
       "      <th>State</th>\n",
       "      <th>Metro</th>\n",
       "      <th>CountyName</th>\n",
       "      <th>SizeRank</th>\n",
       "      <th>1996-04</th>\n",
       "      <th>1996-05</th>\n",
       "      <th>1996-06</th>\n",
       "      <th>...</th>\n",
       "      <th>2017-07</th>\n",
       "      <th>2017-08</th>\n",
       "      <th>2017-09</th>\n",
       "      <th>2017-10</th>\n",
       "      <th>2017-11</th>\n",
       "      <th>2017-12</th>\n",
       "      <th>2018-01</th>\n",
       "      <th>2018-02</th>\n",
       "      <th>2018-03</th>\n",
       "      <th>2018-04</th>\n",
       "    </tr>\n",
       "  </thead>\n",
       "  <tbody>\n",
       "    <tr>\n",
       "      <th>0</th>\n",
       "      <td>84654</td>\n",
       "      <td>60657</td>\n",
       "      <td>Chicago</td>\n",
       "      <td>IL</td>\n",
       "      <td>Chicago</td>\n",
       "      <td>Cook</td>\n",
       "      <td>1</td>\n",
       "      <td>334200.0</td>\n",
       "      <td>335400.0</td>\n",
       "      <td>336500.0</td>\n",
       "      <td>...</td>\n",
       "      <td>1005500</td>\n",
       "      <td>1007500</td>\n",
       "      <td>1007800</td>\n",
       "      <td>1009600</td>\n",
       "      <td>1013300</td>\n",
       "      <td>1018700</td>\n",
       "      <td>1024400</td>\n",
       "      <td>1030700</td>\n",
       "      <td>1033800</td>\n",
       "      <td>1030600</td>\n",
       "    </tr>\n",
       "    <tr>\n",
       "      <th>1</th>\n",
       "      <td>90668</td>\n",
       "      <td>75070</td>\n",
       "      <td>McKinney</td>\n",
       "      <td>TX</td>\n",
       "      <td>Dallas-Fort Worth</td>\n",
       "      <td>Collin</td>\n",
       "      <td>2</td>\n",
       "      <td>235700.0</td>\n",
       "      <td>236900.0</td>\n",
       "      <td>236700.0</td>\n",
       "      <td>...</td>\n",
       "      <td>308000</td>\n",
       "      <td>310000</td>\n",
       "      <td>312500</td>\n",
       "      <td>314100</td>\n",
       "      <td>315000</td>\n",
       "      <td>316600</td>\n",
       "      <td>318100</td>\n",
       "      <td>319600</td>\n",
       "      <td>321100</td>\n",
       "      <td>321800</td>\n",
       "    </tr>\n",
       "    <tr>\n",
       "      <th>2</th>\n",
       "      <td>91982</td>\n",
       "      <td>77494</td>\n",
       "      <td>Katy</td>\n",
       "      <td>TX</td>\n",
       "      <td>Houston</td>\n",
       "      <td>Harris</td>\n",
       "      <td>3</td>\n",
       "      <td>210400.0</td>\n",
       "      <td>212200.0</td>\n",
       "      <td>212200.0</td>\n",
       "      <td>...</td>\n",
       "      <td>321000</td>\n",
       "      <td>320600</td>\n",
       "      <td>320200</td>\n",
       "      <td>320400</td>\n",
       "      <td>320800</td>\n",
       "      <td>321200</td>\n",
       "      <td>321200</td>\n",
       "      <td>323000</td>\n",
       "      <td>326900</td>\n",
       "      <td>329900</td>\n",
       "    </tr>\n",
       "    <tr>\n",
       "      <th>3</th>\n",
       "      <td>84616</td>\n",
       "      <td>60614</td>\n",
       "      <td>Chicago</td>\n",
       "      <td>IL</td>\n",
       "      <td>Chicago</td>\n",
       "      <td>Cook</td>\n",
       "      <td>4</td>\n",
       "      <td>498100.0</td>\n",
       "      <td>500900.0</td>\n",
       "      <td>503100.0</td>\n",
       "      <td>...</td>\n",
       "      <td>1289800</td>\n",
       "      <td>1287700</td>\n",
       "      <td>1287400</td>\n",
       "      <td>1291500</td>\n",
       "      <td>1296600</td>\n",
       "      <td>1299000</td>\n",
       "      <td>1302700</td>\n",
       "      <td>1306400</td>\n",
       "      <td>1308500</td>\n",
       "      <td>1307000</td>\n",
       "    </tr>\n",
       "    <tr>\n",
       "      <th>4</th>\n",
       "      <td>93144</td>\n",
       "      <td>79936</td>\n",
       "      <td>El Paso</td>\n",
       "      <td>TX</td>\n",
       "      <td>El Paso</td>\n",
       "      <td>El Paso</td>\n",
       "      <td>5</td>\n",
       "      <td>77300.0</td>\n",
       "      <td>77300.0</td>\n",
       "      <td>77300.0</td>\n",
       "      <td>...</td>\n",
       "      <td>119100</td>\n",
       "      <td>119400</td>\n",
       "      <td>120000</td>\n",
       "      <td>120300</td>\n",
       "      <td>120300</td>\n",
       "      <td>120300</td>\n",
       "      <td>120300</td>\n",
       "      <td>120500</td>\n",
       "      <td>121000</td>\n",
       "      <td>121500</td>\n",
       "    </tr>\n",
       "  </tbody>\n",
       "</table>\n",
       "<p>5 rows × 272 columns</p>\n",
       "</div>"
      ],
      "text/plain": [
       "   RegionID  RegionName      City State              Metro CountyName  \\\n",
       "0     84654       60657   Chicago    IL            Chicago       Cook   \n",
       "1     90668       75070  McKinney    TX  Dallas-Fort Worth     Collin   \n",
       "2     91982       77494      Katy    TX            Houston     Harris   \n",
       "3     84616       60614   Chicago    IL            Chicago       Cook   \n",
       "4     93144       79936   El Paso    TX            El Paso    El Paso   \n",
       "\n",
       "   SizeRank   1996-04   1996-05   1996-06  ...  2017-07  2017-08  2017-09  \\\n",
       "0         1  334200.0  335400.0  336500.0  ...  1005500  1007500  1007800   \n",
       "1         2  235700.0  236900.0  236700.0  ...   308000   310000   312500   \n",
       "2         3  210400.0  212200.0  212200.0  ...   321000   320600   320200   \n",
       "3         4  498100.0  500900.0  503100.0  ...  1289800  1287700  1287400   \n",
       "4         5   77300.0   77300.0   77300.0  ...   119100   119400   120000   \n",
       "\n",
       "   2017-10  2017-11  2017-12  2018-01  2018-02  2018-03  2018-04  \n",
       "0  1009600  1013300  1018700  1024400  1030700  1033800  1030600  \n",
       "1   314100   315000   316600   318100   319600   321100   321800  \n",
       "2   320400   320800   321200   321200   323000   326900   329900  \n",
       "3  1291500  1296600  1299000  1302700  1306400  1308500  1307000  \n",
       "4   120300   120300   120300   120300   120500   121000   121500  \n",
       "\n",
       "[5 rows x 272 columns]"
      ]
     },
     "execution_count": 3,
     "metadata": {},
     "output_type": "execute_result"
    }
   ],
   "source": [
    "df.head()"
   ]
  },
  {
   "cell_type": "code",
   "execution_count": 4,
   "metadata": {},
   "outputs": [],
   "source": [
    "df = df.rename(columns={'RegionName': 'zipcode'})"
   ]
  },
  {
   "cell_type": "code",
   "execution_count": 5,
   "metadata": {},
   "outputs": [],
   "source": [
    "df['zipcode'] = df['zipcode'].astype(str).str.zfill(5)"
   ]
  },
  {
   "cell_type": "code",
   "execution_count": 6,
   "metadata": {},
   "outputs": [],
   "source": [
    "df['five_year'] = ((df['2018-04']/df['2013-04'])-1)*100"
   ]
  },
  {
   "cell_type": "code",
   "execution_count": 7,
   "metadata": {},
   "outputs": [
    {
     "data": {
      "text/html": [
       "<div>\n",
       "<style scoped>\n",
       "    .dataframe tbody tr th:only-of-type {\n",
       "        vertical-align: middle;\n",
       "    }\n",
       "\n",
       "    .dataframe tbody tr th {\n",
       "        vertical-align: top;\n",
       "    }\n",
       "\n",
       "    .dataframe thead th {\n",
       "        text-align: right;\n",
       "    }\n",
       "</style>\n",
       "<table border=\"1\" class=\"dataframe\">\n",
       "  <thead>\n",
       "    <tr style=\"text-align: right;\">\n",
       "      <th></th>\n",
       "      <th>RegionID</th>\n",
       "      <th>zipcode</th>\n",
       "      <th>City</th>\n",
       "      <th>State</th>\n",
       "      <th>Metro</th>\n",
       "      <th>CountyName</th>\n",
       "      <th>SizeRank</th>\n",
       "      <th>1996-04</th>\n",
       "      <th>1996-05</th>\n",
       "      <th>1996-06</th>\n",
       "      <th>...</th>\n",
       "      <th>2017-08</th>\n",
       "      <th>2017-09</th>\n",
       "      <th>2017-10</th>\n",
       "      <th>2017-11</th>\n",
       "      <th>2017-12</th>\n",
       "      <th>2018-01</th>\n",
       "      <th>2018-02</th>\n",
       "      <th>2018-03</th>\n",
       "      <th>2018-04</th>\n",
       "      <th>five_year</th>\n",
       "    </tr>\n",
       "  </thead>\n",
       "  <tbody>\n",
       "    <tr>\n",
       "      <th>0</th>\n",
       "      <td>84654</td>\n",
       "      <td>60657</td>\n",
       "      <td>Chicago</td>\n",
       "      <td>IL</td>\n",
       "      <td>Chicago</td>\n",
       "      <td>Cook</td>\n",
       "      <td>1</td>\n",
       "      <td>334200.0</td>\n",
       "      <td>335400.0</td>\n",
       "      <td>336500.0</td>\n",
       "      <td>...</td>\n",
       "      <td>1007500</td>\n",
       "      <td>1007800</td>\n",
       "      <td>1009600</td>\n",
       "      <td>1013300</td>\n",
       "      <td>1018700</td>\n",
       "      <td>1024400</td>\n",
       "      <td>1030700</td>\n",
       "      <td>1033800</td>\n",
       "      <td>1030600</td>\n",
       "      <td>26.082701</td>\n",
       "    </tr>\n",
       "    <tr>\n",
       "      <th>1</th>\n",
       "      <td>90668</td>\n",
       "      <td>75070</td>\n",
       "      <td>McKinney</td>\n",
       "      <td>TX</td>\n",
       "      <td>Dallas-Fort Worth</td>\n",
       "      <td>Collin</td>\n",
       "      <td>2</td>\n",
       "      <td>235700.0</td>\n",
       "      <td>236900.0</td>\n",
       "      <td>236700.0</td>\n",
       "      <td>...</td>\n",
       "      <td>310000</td>\n",
       "      <td>312500</td>\n",
       "      <td>314100</td>\n",
       "      <td>315000</td>\n",
       "      <td>316600</td>\n",
       "      <td>318100</td>\n",
       "      <td>319600</td>\n",
       "      <td>321100</td>\n",
       "      <td>321800</td>\n",
       "      <td>53.384175</td>\n",
       "    </tr>\n",
       "    <tr>\n",
       "      <th>2</th>\n",
       "      <td>91982</td>\n",
       "      <td>77494</td>\n",
       "      <td>Katy</td>\n",
       "      <td>TX</td>\n",
       "      <td>Houston</td>\n",
       "      <td>Harris</td>\n",
       "      <td>3</td>\n",
       "      <td>210400.0</td>\n",
       "      <td>212200.0</td>\n",
       "      <td>212200.0</td>\n",
       "      <td>...</td>\n",
       "      <td>320600</td>\n",
       "      <td>320200</td>\n",
       "      <td>320400</td>\n",
       "      <td>320800</td>\n",
       "      <td>321200</td>\n",
       "      <td>321200</td>\n",
       "      <td>323000</td>\n",
       "      <td>326900</td>\n",
       "      <td>329900</td>\n",
       "      <td>28.315830</td>\n",
       "    </tr>\n",
       "    <tr>\n",
       "      <th>3</th>\n",
       "      <td>84616</td>\n",
       "      <td>60614</td>\n",
       "      <td>Chicago</td>\n",
       "      <td>IL</td>\n",
       "      <td>Chicago</td>\n",
       "      <td>Cook</td>\n",
       "      <td>4</td>\n",
       "      <td>498100.0</td>\n",
       "      <td>500900.0</td>\n",
       "      <td>503100.0</td>\n",
       "      <td>...</td>\n",
       "      <td>1287700</td>\n",
       "      <td>1287400</td>\n",
       "      <td>1291500</td>\n",
       "      <td>1296600</td>\n",
       "      <td>1299000</td>\n",
       "      <td>1302700</td>\n",
       "      <td>1306400</td>\n",
       "      <td>1308500</td>\n",
       "      <td>1307000</td>\n",
       "      <td>25.878840</td>\n",
       "    </tr>\n",
       "    <tr>\n",
       "      <th>4</th>\n",
       "      <td>93144</td>\n",
       "      <td>79936</td>\n",
       "      <td>El Paso</td>\n",
       "      <td>TX</td>\n",
       "      <td>El Paso</td>\n",
       "      <td>El Paso</td>\n",
       "      <td>5</td>\n",
       "      <td>77300.0</td>\n",
       "      <td>77300.0</td>\n",
       "      <td>77300.0</td>\n",
       "      <td>...</td>\n",
       "      <td>119400</td>\n",
       "      <td>120000</td>\n",
       "      <td>120300</td>\n",
       "      <td>120300</td>\n",
       "      <td>120300</td>\n",
       "      <td>120300</td>\n",
       "      <td>120500</td>\n",
       "      <td>121000</td>\n",
       "      <td>121500</td>\n",
       "      <td>7.048458</td>\n",
       "    </tr>\n",
       "  </tbody>\n",
       "</table>\n",
       "<p>5 rows × 273 columns</p>\n",
       "</div>"
      ],
      "text/plain": [
       "   RegionID zipcode      City State              Metro CountyName  SizeRank  \\\n",
       "0     84654   60657   Chicago    IL            Chicago       Cook         1   \n",
       "1     90668   75070  McKinney    TX  Dallas-Fort Worth     Collin         2   \n",
       "2     91982   77494      Katy    TX            Houston     Harris         3   \n",
       "3     84616   60614   Chicago    IL            Chicago       Cook         4   \n",
       "4     93144   79936   El Paso    TX            El Paso    El Paso         5   \n",
       "\n",
       "    1996-04   1996-05   1996-06  ...  2017-08  2017-09  2017-10  2017-11  \\\n",
       "0  334200.0  335400.0  336500.0  ...  1007500  1007800  1009600  1013300   \n",
       "1  235700.0  236900.0  236700.0  ...   310000   312500   314100   315000   \n",
       "2  210400.0  212200.0  212200.0  ...   320600   320200   320400   320800   \n",
       "3  498100.0  500900.0  503100.0  ...  1287700  1287400  1291500  1296600   \n",
       "4   77300.0   77300.0   77300.0  ...   119400   120000   120300   120300   \n",
       "\n",
       "   2017-12  2018-01  2018-02  2018-03  2018-04  five_year  \n",
       "0  1018700  1024400  1030700  1033800  1030600  26.082701  \n",
       "1   316600   318100   319600   321100   321800  53.384175  \n",
       "2   321200   321200   323000   326900   329900  28.315830  \n",
       "3  1299000  1302700  1306400  1308500  1307000  25.878840  \n",
       "4   120300   120300   120500   121000   121500   7.048458  \n",
       "\n",
       "[5 rows x 273 columns]"
      ]
     },
     "execution_count": 7,
     "metadata": {},
     "output_type": "execute_result"
    }
   ],
   "source": [
    "df.head()"
   ]
  },
  {
   "cell_type": "code",
   "execution_count": 8,
   "metadata": {},
   "outputs": [
    {
     "data": {
      "text/html": [
       "<div>\n",
       "<style scoped>\n",
       "    .dataframe tbody tr th:only-of-type {\n",
       "        vertical-align: middle;\n",
       "    }\n",
       "\n",
       "    .dataframe tbody tr th {\n",
       "        vertical-align: top;\n",
       "    }\n",
       "\n",
       "    .dataframe thead th {\n",
       "        text-align: right;\n",
       "    }\n",
       "</style>\n",
       "<table border=\"1\" class=\"dataframe\">\n",
       "  <thead>\n",
       "    <tr style=\"text-align: right;\">\n",
       "      <th></th>\n",
       "      <th>zipcode</th>\n",
       "      <th>City</th>\n",
       "      <th>State</th>\n",
       "      <th>five_year</th>\n",
       "    </tr>\n",
       "  </thead>\n",
       "  <tbody>\n",
       "    <tr>\n",
       "      <th>7302</th>\n",
       "      <td>80216</td>\n",
       "      <td>Denver</td>\n",
       "      <td>CO</td>\n",
       "      <td>173.872951</td>\n",
       "    </tr>\n",
       "    <tr>\n",
       "      <th>1477</th>\n",
       "      <td>94601</td>\n",
       "      <td>Oakland</td>\n",
       "      <td>CA</td>\n",
       "      <td>167.943262</td>\n",
       "    </tr>\n",
       "    <tr>\n",
       "      <th>5830</th>\n",
       "      <td>48240</td>\n",
       "      <td>Redford</td>\n",
       "      <td>MI</td>\n",
       "      <td>161.224490</td>\n",
       "    </tr>\n",
       "    <tr>\n",
       "      <th>1239</th>\n",
       "      <td>94590</td>\n",
       "      <td>Vallejo</td>\n",
       "      <td>CA</td>\n",
       "      <td>159.379310</td>\n",
       "    </tr>\n",
       "    <tr>\n",
       "      <th>2661</th>\n",
       "      <td>33705</td>\n",
       "      <td>Saint Petersburg</td>\n",
       "      <td>FL</td>\n",
       "      <td>159.210526</td>\n",
       "    </tr>\n",
       "    <tr>\n",
       "      <th>6105</th>\n",
       "      <td>37210</td>\n",
       "      <td>Nashville</td>\n",
       "      <td>TN</td>\n",
       "      <td>155.932203</td>\n",
       "    </tr>\n",
       "    <tr>\n",
       "      <th>2627</th>\n",
       "      <td>33460</td>\n",
       "      <td>Lake Worth</td>\n",
       "      <td>FL</td>\n",
       "      <td>153.647059</td>\n",
       "    </tr>\n",
       "    <tr>\n",
       "      <th>6563</th>\n",
       "      <td>15201</td>\n",
       "      <td>Pittsburgh</td>\n",
       "      <td>PA</td>\n",
       "      <td>147.593583</td>\n",
       "    </tr>\n",
       "    <tr>\n",
       "      <th>475</th>\n",
       "      <td>11216</td>\n",
       "      <td>New York</td>\n",
       "      <td>NY</td>\n",
       "      <td>147.591761</td>\n",
       "    </tr>\n",
       "    <tr>\n",
       "      <th>1835</th>\n",
       "      <td>37207</td>\n",
       "      <td>Nashville</td>\n",
       "      <td>TN</td>\n",
       "      <td>146.683047</td>\n",
       "    </tr>\n",
       "    <tr>\n",
       "      <th>1461</th>\n",
       "      <td>33461</td>\n",
       "      <td>Palm Springs</td>\n",
       "      <td>FL</td>\n",
       "      <td>146.335404</td>\n",
       "    </tr>\n",
       "    <tr>\n",
       "      <th>1273</th>\n",
       "      <td>33435</td>\n",
       "      <td>Boynton Beach</td>\n",
       "      <td>FL</td>\n",
       "      <td>144.760820</td>\n",
       "    </tr>\n",
       "    <tr>\n",
       "      <th>990</th>\n",
       "      <td>33415</td>\n",
       "      <td>Greenacres</td>\n",
       "      <td>FL</td>\n",
       "      <td>144.613435</td>\n",
       "    </tr>\n",
       "    <tr>\n",
       "      <th>2988</th>\n",
       "      <td>32807</td>\n",
       "      <td>Orlando</td>\n",
       "      <td>FL</td>\n",
       "      <td>144.415243</td>\n",
       "    </tr>\n",
       "    <tr>\n",
       "      <th>4146</th>\n",
       "      <td>33030</td>\n",
       "      <td>Homestead</td>\n",
       "      <td>FL</td>\n",
       "      <td>144.167610</td>\n",
       "    </tr>\n",
       "    <tr>\n",
       "      <th>1463</th>\n",
       "      <td>34207</td>\n",
       "      <td>Bradenton</td>\n",
       "      <td>FL</td>\n",
       "      <td>141.495601</td>\n",
       "    </tr>\n",
       "    <tr>\n",
       "      <th>3794</th>\n",
       "      <td>33056</td>\n",
       "      <td>Miami Gardens</td>\n",
       "      <td>FL</td>\n",
       "      <td>140.647858</td>\n",
       "    </tr>\n",
       "    <tr>\n",
       "      <th>1681</th>\n",
       "      <td>94606</td>\n",
       "      <td>Oakland</td>\n",
       "      <td>CA</td>\n",
       "      <td>140.110269</td>\n",
       "    </tr>\n",
       "    <tr>\n",
       "      <th>1758</th>\n",
       "      <td>30316</td>\n",
       "      <td>Atlanta</td>\n",
       "      <td>GA</td>\n",
       "      <td>140.088106</td>\n",
       "    </tr>\n",
       "    <tr>\n",
       "      <th>1946</th>\n",
       "      <td>85035</td>\n",
       "      <td>Phoenix</td>\n",
       "      <td>AZ</td>\n",
       "      <td>139.940387</td>\n",
       "    </tr>\n",
       "  </tbody>\n",
       "</table>\n",
       "</div>"
      ],
      "text/plain": [
       "     zipcode              City State   five_year\n",
       "7302   80216            Denver    CO  173.872951\n",
       "1477   94601           Oakland    CA  167.943262\n",
       "5830   48240           Redford    MI  161.224490\n",
       "1239   94590           Vallejo    CA  159.379310\n",
       "2661   33705  Saint Petersburg    FL  159.210526\n",
       "6105   37210         Nashville    TN  155.932203\n",
       "2627   33460        Lake Worth    FL  153.647059\n",
       "6563   15201        Pittsburgh    PA  147.593583\n",
       "475    11216          New York    NY  147.591761\n",
       "1835   37207         Nashville    TN  146.683047\n",
       "1461   33461      Palm Springs    FL  146.335404\n",
       "1273   33435     Boynton Beach    FL  144.760820\n",
       "990    33415        Greenacres    FL  144.613435\n",
       "2988   32807           Orlando    FL  144.415243\n",
       "4146   33030         Homestead    FL  144.167610\n",
       "1463   34207         Bradenton    FL  141.495601\n",
       "3794   33056     Miami Gardens    FL  140.647858\n",
       "1681   94606           Oakland    CA  140.110269\n",
       "1758   30316           Atlanta    GA  140.088106\n",
       "1946   85035           Phoenix    AZ  139.940387"
      ]
     },
     "execution_count": 8,
     "metadata": {},
     "output_type": "execute_result"
    }
   ],
   "source": [
    "df[['zipcode','City','State','five_year']].sort_values(by=['five_year'],ascending=False).head(20)"
   ]
  },
  {
   "cell_type": "code",
   "execution_count": 9,
   "metadata": {},
   "outputs": [],
   "source": [
    "lake_worth = df.loc[df['zipcode'] == '11216']"
   ]
  },
  {
   "cell_type": "code",
   "execution_count": 10,
   "metadata": {},
   "outputs": [
    {
     "data": {
      "text/html": [
       "<div>\n",
       "<style scoped>\n",
       "    .dataframe tbody tr th:only-of-type {\n",
       "        vertical-align: middle;\n",
       "    }\n",
       "\n",
       "    .dataframe tbody tr th {\n",
       "        vertical-align: top;\n",
       "    }\n",
       "\n",
       "    .dataframe thead th {\n",
       "        text-align: right;\n",
       "    }\n",
       "</style>\n",
       "<table border=\"1\" class=\"dataframe\">\n",
       "  <thead>\n",
       "    <tr style=\"text-align: right;\">\n",
       "      <th></th>\n",
       "      <th>RegionID</th>\n",
       "      <th>zipcode</th>\n",
       "      <th>City</th>\n",
       "      <th>State</th>\n",
       "      <th>Metro</th>\n",
       "      <th>CountyName</th>\n",
       "      <th>SizeRank</th>\n",
       "      <th>1996-04</th>\n",
       "      <th>1996-05</th>\n",
       "      <th>1996-06</th>\n",
       "      <th>...</th>\n",
       "      <th>2017-08</th>\n",
       "      <th>2017-09</th>\n",
       "      <th>2017-10</th>\n",
       "      <th>2017-11</th>\n",
       "      <th>2017-12</th>\n",
       "      <th>2018-01</th>\n",
       "      <th>2018-02</th>\n",
       "      <th>2018-03</th>\n",
       "      <th>2018-04</th>\n",
       "      <th>five_year</th>\n",
       "    </tr>\n",
       "  </thead>\n",
       "  <tbody>\n",
       "    <tr>\n",
       "      <th>475</th>\n",
       "      <td>62027</td>\n",
       "      <td>11216</td>\n",
       "      <td>New York</td>\n",
       "      <td>NY</td>\n",
       "      <td>New York</td>\n",
       "      <td>Kings</td>\n",
       "      <td>476</td>\n",
       "      <td>146100.0</td>\n",
       "      <td>146600.0</td>\n",
       "      <td>147200.0</td>\n",
       "      <td>...</td>\n",
       "      <td>1506100</td>\n",
       "      <td>1553100</td>\n",
       "      <td>1567700</td>\n",
       "      <td>1559700</td>\n",
       "      <td>1545700</td>\n",
       "      <td>1540200</td>\n",
       "      <td>1553600</td>\n",
       "      <td>1578400</td>\n",
       "      <td>1598700</td>\n",
       "      <td>147.591761</td>\n",
       "    </tr>\n",
       "  </tbody>\n",
       "</table>\n",
       "<p>1 rows × 273 columns</p>\n",
       "</div>"
      ],
      "text/plain": [
       "     RegionID zipcode      City State     Metro CountyName  SizeRank  \\\n",
       "475     62027   11216  New York    NY  New York      Kings       476   \n",
       "\n",
       "      1996-04   1996-05   1996-06  ...  2017-08  2017-09  2017-10  2017-11  \\\n",
       "475  146100.0  146600.0  147200.0  ...  1506100  1553100  1567700  1559700   \n",
       "\n",
       "     2017-12  2018-01  2018-02  2018-03  2018-04   five_year  \n",
       "475  1545700  1540200  1553600  1578400  1598700  147.591761  \n",
       "\n",
       "[1 rows x 273 columns]"
      ]
     },
     "execution_count": 10,
     "metadata": {},
     "output_type": "execute_result"
    }
   ],
   "source": [
    "lake_worth.head()"
   ]
  },
  {
   "cell_type": "code",
   "execution_count": 11,
   "metadata": {},
   "outputs": [],
   "source": [
    "lake_worth = lake_worth.iloc[:,7:-1]"
   ]
  },
  {
   "cell_type": "code",
   "execution_count": 12,
   "metadata": {},
   "outputs": [
    {
     "data": {
      "text/html": [
       "<div>\n",
       "<style scoped>\n",
       "    .dataframe tbody tr th:only-of-type {\n",
       "        vertical-align: middle;\n",
       "    }\n",
       "\n",
       "    .dataframe tbody tr th {\n",
       "        vertical-align: top;\n",
       "    }\n",
       "\n",
       "    .dataframe thead th {\n",
       "        text-align: right;\n",
       "    }\n",
       "</style>\n",
       "<table border=\"1\" class=\"dataframe\">\n",
       "  <thead>\n",
       "    <tr style=\"text-align: right;\">\n",
       "      <th></th>\n",
       "      <th>1996-04</th>\n",
       "      <th>1996-05</th>\n",
       "      <th>1996-06</th>\n",
       "      <th>1996-07</th>\n",
       "      <th>1996-08</th>\n",
       "      <th>1996-09</th>\n",
       "      <th>1996-10</th>\n",
       "      <th>1996-11</th>\n",
       "      <th>1996-12</th>\n",
       "      <th>1997-01</th>\n",
       "      <th>...</th>\n",
       "      <th>2017-07</th>\n",
       "      <th>2017-08</th>\n",
       "      <th>2017-09</th>\n",
       "      <th>2017-10</th>\n",
       "      <th>2017-11</th>\n",
       "      <th>2017-12</th>\n",
       "      <th>2018-01</th>\n",
       "      <th>2018-02</th>\n",
       "      <th>2018-03</th>\n",
       "      <th>2018-04</th>\n",
       "    </tr>\n",
       "  </thead>\n",
       "  <tbody>\n",
       "    <tr>\n",
       "      <th>475</th>\n",
       "      <td>146100.0</td>\n",
       "      <td>146600.0</td>\n",
       "      <td>147200.0</td>\n",
       "      <td>147700.0</td>\n",
       "      <td>148400.0</td>\n",
       "      <td>149300.0</td>\n",
       "      <td>150200.0</td>\n",
       "      <td>151300.0</td>\n",
       "      <td>152700.0</td>\n",
       "      <td>154100.0</td>\n",
       "      <td>...</td>\n",
       "      <td>1452000</td>\n",
       "      <td>1506100</td>\n",
       "      <td>1553100</td>\n",
       "      <td>1567700</td>\n",
       "      <td>1559700</td>\n",
       "      <td>1545700</td>\n",
       "      <td>1540200</td>\n",
       "      <td>1553600</td>\n",
       "      <td>1578400</td>\n",
       "      <td>1598700</td>\n",
       "    </tr>\n",
       "  </tbody>\n",
       "</table>\n",
       "<p>1 rows × 265 columns</p>\n",
       "</div>"
      ],
      "text/plain": [
       "      1996-04   1996-05   1996-06   1996-07   1996-08   1996-09   1996-10  \\\n",
       "475  146100.0  146600.0  147200.0  147700.0  148400.0  149300.0  150200.0   \n",
       "\n",
       "      1996-11   1996-12   1997-01  ...  2017-07  2017-08  2017-09  2017-10  \\\n",
       "475  151300.0  152700.0  154100.0  ...  1452000  1506100  1553100  1567700   \n",
       "\n",
       "     2017-11  2017-12  2018-01  2018-02  2018-03  2018-04  \n",
       "475  1559700  1545700  1540200  1553600  1578400  1598700  \n",
       "\n",
       "[1 rows x 265 columns]"
      ]
     },
     "execution_count": 12,
     "metadata": {},
     "output_type": "execute_result"
    }
   ],
   "source": [
    "lake_worth.head()"
   ]
  },
  {
   "cell_type": "code",
   "execution_count": 13,
   "metadata": {},
   "outputs": [],
   "source": [
    "lake_worth = lake_worth.T"
   ]
  },
  {
   "cell_type": "code",
   "execution_count": 14,
   "metadata": {},
   "outputs": [
    {
     "data": {
      "text/html": [
       "<div>\n",
       "<style scoped>\n",
       "    .dataframe tbody tr th:only-of-type {\n",
       "        vertical-align: middle;\n",
       "    }\n",
       "\n",
       "    .dataframe tbody tr th {\n",
       "        vertical-align: top;\n",
       "    }\n",
       "\n",
       "    .dataframe thead th {\n",
       "        text-align: right;\n",
       "    }\n",
       "</style>\n",
       "<table border=\"1\" class=\"dataframe\">\n",
       "  <thead>\n",
       "    <tr style=\"text-align: right;\">\n",
       "      <th></th>\n",
       "      <th>475</th>\n",
       "    </tr>\n",
       "  </thead>\n",
       "  <tbody>\n",
       "    <tr>\n",
       "      <th>1996-04</th>\n",
       "      <td>146100.0</td>\n",
       "    </tr>\n",
       "    <tr>\n",
       "      <th>1996-05</th>\n",
       "      <td>146600.0</td>\n",
       "    </tr>\n",
       "    <tr>\n",
       "      <th>1996-06</th>\n",
       "      <td>147200.0</td>\n",
       "    </tr>\n",
       "    <tr>\n",
       "      <th>1996-07</th>\n",
       "      <td>147700.0</td>\n",
       "    </tr>\n",
       "    <tr>\n",
       "      <th>1996-08</th>\n",
       "      <td>148400.0</td>\n",
       "    </tr>\n",
       "  </tbody>\n",
       "</table>\n",
       "</div>"
      ],
      "text/plain": [
       "              475\n",
       "1996-04  146100.0\n",
       "1996-05  146600.0\n",
       "1996-06  147200.0\n",
       "1996-07  147700.0\n",
       "1996-08  148400.0"
      ]
     },
     "execution_count": 14,
     "metadata": {},
     "output_type": "execute_result"
    }
   ],
   "source": [
    "lake_worth.head()"
   ]
  },
  {
   "cell_type": "code",
   "execution_count": 15,
   "metadata": {},
   "outputs": [
    {
     "data": {
      "text/plain": [
       "pandas.core.frame.DataFrame"
      ]
     },
     "execution_count": 15,
     "metadata": {},
     "output_type": "execute_result"
    }
   ],
   "source": [
    "type(lake_worth)"
   ]
  },
  {
   "cell_type": "code",
   "execution_count": 16,
   "metadata": {},
   "outputs": [],
   "source": [
    "lake_worth = lake_worth.rename(columns={475:'home price'})"
   ]
  },
  {
   "cell_type": "code",
   "execution_count": 17,
   "metadata": {
    "scrolled": true
   },
   "outputs": [
    {
     "data": {
      "text/html": [
       "<div>\n",
       "<style scoped>\n",
       "    .dataframe tbody tr th:only-of-type {\n",
       "        vertical-align: middle;\n",
       "    }\n",
       "\n",
       "    .dataframe tbody tr th {\n",
       "        vertical-align: top;\n",
       "    }\n",
       "\n",
       "    .dataframe thead th {\n",
       "        text-align: right;\n",
       "    }\n",
       "</style>\n",
       "<table border=\"1\" class=\"dataframe\">\n",
       "  <thead>\n",
       "    <tr style=\"text-align: right;\">\n",
       "      <th></th>\n",
       "      <th>home price</th>\n",
       "    </tr>\n",
       "  </thead>\n",
       "  <tbody>\n",
       "    <tr>\n",
       "      <th>1996-04</th>\n",
       "      <td>146100.0</td>\n",
       "    </tr>\n",
       "    <tr>\n",
       "      <th>1996-05</th>\n",
       "      <td>146600.0</td>\n",
       "    </tr>\n",
       "    <tr>\n",
       "      <th>1996-06</th>\n",
       "      <td>147200.0</td>\n",
       "    </tr>\n",
       "    <tr>\n",
       "      <th>1996-07</th>\n",
       "      <td>147700.0</td>\n",
       "    </tr>\n",
       "    <tr>\n",
       "      <th>1996-08</th>\n",
       "      <td>148400.0</td>\n",
       "    </tr>\n",
       "  </tbody>\n",
       "</table>\n",
       "</div>"
      ],
      "text/plain": [
       "         home price\n",
       "1996-04    146100.0\n",
       "1996-05    146600.0\n",
       "1996-06    147200.0\n",
       "1996-07    147700.0\n",
       "1996-08    148400.0"
      ]
     },
     "execution_count": 17,
     "metadata": {},
     "output_type": "execute_result"
    }
   ],
   "source": [
    "lake_worth.head()"
   ]
  },
  {
   "cell_type": "code",
   "execution_count": 18,
   "metadata": {},
   "outputs": [],
   "source": [
    "lake_worth.index = lake_worth.index.astype('datetime64[ns]')"
   ]
  },
  {
   "cell_type": "code",
   "execution_count": 19,
   "metadata": {},
   "outputs": [
    {
     "data": {
      "text/plain": [
       "dtype('<M8[ns]')"
      ]
     },
     "execution_count": 19,
     "metadata": {},
     "output_type": "execute_result"
    }
   ],
   "source": [
    "lake_worth.index.dtype"
   ]
  },
  {
   "cell_type": "code",
   "execution_count": 20,
   "metadata": {
    "scrolled": true
   },
   "outputs": [
    {
     "data": {
      "image/png": "[encoded data removed]",
      "text/plain": [
       "<Figure size 432x288 with 1 Axes>"
      ]
     },
     "metadata": {
      "needs_background": "light"
     },
     "output_type": "display_data"
    }
   ],
   "source": [
    "lake_worth.plot();"
   ]
  },
  {
   "cell_type": "code",
   "execution_count": 21,
   "metadata": {},
   "outputs": [],
   "source": [
    "lake_worth['diff'] = lake_worth.diff()"
   ]
  },
  {
   "cell_type": "code",
   "execution_count": 22,
   "metadata": {},
   "outputs": [
    {
     "data": {
      "text/html": [
       "<div>\n",
       "<style scoped>\n",
       "    .dataframe tbody tr th:only-of-type {\n",
       "        vertical-align: middle;\n",
       "    }\n",
       "\n",
       "    .dataframe tbody tr th {\n",
       "        vertical-align: top;\n",
       "    }\n",
       "\n",
       "    .dataframe thead th {\n",
       "        text-align: right;\n",
       "    }\n",
       "</style>\n",
       "<table border=\"1\" class=\"dataframe\">\n",
       "  <thead>\n",
       "    <tr style=\"text-align: right;\">\n",
       "      <th></th>\n",
       "      <th>home price</th>\n",
       "      <th>diff</th>\n",
       "    </tr>\n",
       "  </thead>\n",
       "  <tbody>\n",
       "    <tr>\n",
       "      <th>1996-04-01</th>\n",
       "      <td>146100.0</td>\n",
       "      <td>NaN</td>\n",
       "    </tr>\n",
       "    <tr>\n",
       "      <th>1996-05-01</th>\n",
       "      <td>146600.0</td>\n",
       "      <td>500.0</td>\n",
       "    </tr>\n",
       "    <tr>\n",
       "      <th>1996-06-01</th>\n",
       "      <td>147200.0</td>\n",
       "      <td>600.0</td>\n",
       "    </tr>\n",
       "    <tr>\n",
       "      <th>1996-07-01</th>\n",
       "      <td>147700.0</td>\n",
       "      <td>500.0</td>\n",
       "    </tr>\n",
       "    <tr>\n",
       "      <th>1996-08-01</th>\n",
       "      <td>148400.0</td>\n",
       "      <td>700.0</td>\n",
       "    </tr>\n",
       "  </tbody>\n",
       "</table>\n",
       "</div>"
      ],
      "text/plain": [
       "            home price   diff\n",
       "1996-04-01    146100.0    NaN\n",
       "1996-05-01    146600.0  500.0\n",
       "1996-06-01    147200.0  600.0\n",
       "1996-07-01    147700.0  500.0\n",
       "1996-08-01    148400.0  700.0"
      ]
     },
     "execution_count": 22,
     "metadata": {},
     "output_type": "execute_result"
    }
   ],
   "source": [
    "lake_worth.head()"
   ]
  },
  {
   "cell_type": "code",
   "execution_count": 23,
   "metadata": {},
   "outputs": [],
   "source": [
    "lake_worth['home price shifted'] = lake_worth['home price'].shift()"
   ]
  },
  {
   "cell_type": "code",
   "execution_count": 24,
   "metadata": {},
   "outputs": [
    {
     "data": {
      "text/html": [
       "<div>\n",
       "<style scoped>\n",
       "    .dataframe tbody tr th:only-of-type {\n",
       "        vertical-align: middle;\n",
       "    }\n",
       "\n",
       "    .dataframe tbody tr th {\n",
       "        vertical-align: top;\n",
       "    }\n",
       "\n",
       "    .dataframe thead th {\n",
       "        text-align: right;\n",
       "    }\n",
       "</style>\n",
       "<table border=\"1\" class=\"dataframe\">\n",
       "  <thead>\n",
       "    <tr style=\"text-align: right;\">\n",
       "      <th></th>\n",
       "      <th>home price</th>\n",
       "      <th>diff</th>\n",
       "      <th>home price shifted</th>\n",
       "    </tr>\n",
       "  </thead>\n",
       "  <tbody>\n",
       "    <tr>\n",
       "      <th>2017-12-01</th>\n",
       "      <td>1545700.0</td>\n",
       "      <td>-14000.0</td>\n",
       "      <td>1559700.0</td>\n",
       "    </tr>\n",
       "    <tr>\n",
       "      <th>2018-01-01</th>\n",
       "      <td>1540200.0</td>\n",
       "      <td>-5500.0</td>\n",
       "      <td>1545700.0</td>\n",
       "    </tr>\n",
       "    <tr>\n",
       "      <th>2018-02-01</th>\n",
       "      <td>1553600.0</td>\n",
       "      <td>13400.0</td>\n",
       "      <td>1540200.0</td>\n",
       "    </tr>\n",
       "    <tr>\n",
       "      <th>2018-03-01</th>\n",
       "      <td>1578400.0</td>\n",
       "      <td>24800.0</td>\n",
       "      <td>1553600.0</td>\n",
       "    </tr>\n",
       "    <tr>\n",
       "      <th>2018-04-01</th>\n",
       "      <td>1598700.0</td>\n",
       "      <td>20300.0</td>\n",
       "      <td>1578400.0</td>\n",
       "    </tr>\n",
       "  </tbody>\n",
       "</table>\n",
       "</div>"
      ],
      "text/plain": [
       "            home price     diff  home price shifted\n",
       "2017-12-01   1545700.0 -14000.0           1559700.0\n",
       "2018-01-01   1540200.0  -5500.0           1545700.0\n",
       "2018-02-01   1553600.0  13400.0           1540200.0\n",
       "2018-03-01   1578400.0  24800.0           1553600.0\n",
       "2018-04-01   1598700.0  20300.0           1578400.0"
      ]
     },
     "execution_count": 24,
     "metadata": {},
     "output_type": "execute_result"
    }
   ],
   "source": [
    "lake_worth.tail()"
   ]
  },
  {
   "cell_type": "code",
   "execution_count": 25,
   "metadata": {},
   "outputs": [],
   "source": [
    "lake_worth['pct'] = lake_worth['diff']/lake_worth['home price shifted']"
   ]
  },
  {
   "cell_type": "code",
   "execution_count": 26,
   "metadata": {},
   "outputs": [
    {
     "data": {
      "text/html": [
       "<div>\n",
       "<style scoped>\n",
       "    .dataframe tbody tr th:only-of-type {\n",
       "        vertical-align: middle;\n",
       "    }\n",
       "\n",
       "    .dataframe tbody tr th {\n",
       "        vertical-align: top;\n",
       "    }\n",
       "\n",
       "    .dataframe thead th {\n",
       "        text-align: right;\n",
       "    }\n",
       "</style>\n",
       "<table border=\"1\" class=\"dataframe\">\n",
       "  <thead>\n",
       "    <tr style=\"text-align: right;\">\n",
       "      <th></th>\n",
       "      <th>home price</th>\n",
       "      <th>diff</th>\n",
       "      <th>home price shifted</th>\n",
       "      <th>pct</th>\n",
       "    </tr>\n",
       "  </thead>\n",
       "  <tbody>\n",
       "    <tr>\n",
       "      <th>1996-04-01</th>\n",
       "      <td>146100.0</td>\n",
       "      <td>NaN</td>\n",
       "      <td>NaN</td>\n",
       "      <td>NaN</td>\n",
       "    </tr>\n",
       "    <tr>\n",
       "      <th>1996-05-01</th>\n",
       "      <td>146600.0</td>\n",
       "      <td>500.0</td>\n",
       "      <td>146100.0</td>\n",
       "      <td>0.003422</td>\n",
       "    </tr>\n",
       "    <tr>\n",
       "      <th>1996-06-01</th>\n",
       "      <td>147200.0</td>\n",
       "      <td>600.0</td>\n",
       "      <td>146600.0</td>\n",
       "      <td>0.004093</td>\n",
       "    </tr>\n",
       "    <tr>\n",
       "      <th>1996-07-01</th>\n",
       "      <td>147700.0</td>\n",
       "      <td>500.0</td>\n",
       "      <td>147200.0</td>\n",
       "      <td>0.003397</td>\n",
       "    </tr>\n",
       "    <tr>\n",
       "      <th>1996-08-01</th>\n",
       "      <td>148400.0</td>\n",
       "      <td>700.0</td>\n",
       "      <td>147700.0</td>\n",
       "      <td>0.004739</td>\n",
       "    </tr>\n",
       "  </tbody>\n",
       "</table>\n",
       "</div>"
      ],
      "text/plain": [
       "            home price   diff  home price shifted       pct\n",
       "1996-04-01    146100.0    NaN                 NaN       NaN\n",
       "1996-05-01    146600.0  500.0            146100.0  0.003422\n",
       "1996-06-01    147200.0  600.0            146600.0  0.004093\n",
       "1996-07-01    147700.0  500.0            147200.0  0.003397\n",
       "1996-08-01    148400.0  700.0            147700.0  0.004739"
      ]
     },
     "execution_count": 26,
     "metadata": {},
     "output_type": "execute_result"
    }
   ],
   "source": [
    "lake_worth.head()"
   ]
  },
  {
   "cell_type": "code",
   "execution_count": 27,
   "metadata": {},
   "outputs": [],
   "source": [
    "lake_worth = lake_worth.dropna()"
   ]
  },
  {
   "cell_type": "code",
   "execution_count": 28,
   "metadata": {},
   "outputs": [
    {
     "data": {
      "text/html": [
       "<div>\n",
       "<style scoped>\n",
       "    .dataframe tbody tr th:only-of-type {\n",
       "        vertical-align: middle;\n",
       "    }\n",
       "\n",
       "    .dataframe tbody tr th {\n",
       "        vertical-align: top;\n",
       "    }\n",
       "\n",
       "    .dataframe thead th {\n",
       "        text-align: right;\n",
       "    }\n",
       "</style>\n",
       "<table border=\"1\" class=\"dataframe\">\n",
       "  <thead>\n",
       "    <tr style=\"text-align: right;\">\n",
       "      <th></th>\n",
       "      <th>home price</th>\n",
       "      <th>diff</th>\n",
       "      <th>home price shifted</th>\n",
       "      <th>pct</th>\n",
       "    </tr>\n",
       "  </thead>\n",
       "  <tbody>\n",
       "    <tr>\n",
       "      <th>1996-05-01</th>\n",
       "      <td>146600.0</td>\n",
       "      <td>500.0</td>\n",
       "      <td>146100.0</td>\n",
       "      <td>0.003422</td>\n",
       "    </tr>\n",
       "    <tr>\n",
       "      <th>1996-06-01</th>\n",
       "      <td>147200.0</td>\n",
       "      <td>600.0</td>\n",
       "      <td>146600.0</td>\n",
       "      <td>0.004093</td>\n",
       "    </tr>\n",
       "    <tr>\n",
       "      <th>1996-07-01</th>\n",
       "      <td>147700.0</td>\n",
       "      <td>500.0</td>\n",
       "      <td>147200.0</td>\n",
       "      <td>0.003397</td>\n",
       "    </tr>\n",
       "    <tr>\n",
       "      <th>1996-08-01</th>\n",
       "      <td>148400.0</td>\n",
       "      <td>700.0</td>\n",
       "      <td>147700.0</td>\n",
       "      <td>0.004739</td>\n",
       "    </tr>\n",
       "    <tr>\n",
       "      <th>1996-09-01</th>\n",
       "      <td>149300.0</td>\n",
       "      <td>900.0</td>\n",
       "      <td>148400.0</td>\n",
       "      <td>0.006065</td>\n",
       "    </tr>\n",
       "  </tbody>\n",
       "</table>\n",
       "</div>"
      ],
      "text/plain": [
       "            home price   diff  home price shifted       pct\n",
       "1996-05-01    146600.0  500.0            146100.0  0.003422\n",
       "1996-06-01    147200.0  600.0            146600.0  0.004093\n",
       "1996-07-01    147700.0  500.0            147200.0  0.003397\n",
       "1996-08-01    148400.0  700.0            147700.0  0.004739\n",
       "1996-09-01    149300.0  900.0            148400.0  0.006065"
      ]
     },
     "execution_count": 28,
     "metadata": {},
     "output_type": "execute_result"
    }
   ],
   "source": [
    "lake_worth.head()"
   ]
  },
  {
   "cell_type": "code",
   "execution_count": 29,
   "metadata": {},
   "outputs": [],
   "source": [
    "lake_worth_pct = lake_worth.drop(['pct','diff','home price shifted'],axis=1)"
   ]
  },
  {
   "cell_type": "code",
   "execution_count": 30,
   "metadata": {
    "scrolled": true
   },
   "outputs": [
    {
     "data": {
      "text/html": [
       "<div>\n",
       "<style scoped>\n",
       "    .dataframe tbody tr th:only-of-type {\n",
       "        vertical-align: middle;\n",
       "    }\n",
       "\n",
       "    .dataframe tbody tr th {\n",
       "        vertical-align: top;\n",
       "    }\n",
       "\n",
       "    .dataframe thead th {\n",
       "        text-align: right;\n",
       "    }\n",
       "</style>\n",
       "<table border=\"1\" class=\"dataframe\">\n",
       "  <thead>\n",
       "    <tr style=\"text-align: right;\">\n",
       "      <th></th>\n",
       "      <th>home price</th>\n",
       "    </tr>\n",
       "  </thead>\n",
       "  <tbody>\n",
       "    <tr>\n",
       "      <th>1996-05-01</th>\n",
       "      <td>146600.0</td>\n",
       "    </tr>\n",
       "    <tr>\n",
       "      <th>1996-06-01</th>\n",
       "      <td>147200.0</td>\n",
       "    </tr>\n",
       "    <tr>\n",
       "      <th>1996-07-01</th>\n",
       "      <td>147700.0</td>\n",
       "    </tr>\n",
       "    <tr>\n",
       "      <th>1996-08-01</th>\n",
       "      <td>148400.0</td>\n",
       "    </tr>\n",
       "    <tr>\n",
       "      <th>1996-09-01</th>\n",
       "      <td>149300.0</td>\n",
       "    </tr>\n",
       "  </tbody>\n",
       "</table>\n",
       "</div>"
      ],
      "text/plain": [
       "            home price\n",
       "1996-05-01    146600.0\n",
       "1996-06-01    147200.0\n",
       "1996-07-01    147700.0\n",
       "1996-08-01    148400.0\n",
       "1996-09-01    149300.0"
      ]
     },
     "execution_count": 30,
     "metadata": {},
     "output_type": "execute_result"
    }
   ],
   "source": [
    "lake_worth_pct.head()"
   ]
  },
  {
   "cell_type": "code",
   "execution_count": 31,
   "metadata": {},
   "outputs": [],
   "source": [
    "lake_worth_pct = lake_worth_pct['2013-04':]"
   ]
  },
  {
   "cell_type": "code",
   "execution_count": 32,
   "metadata": {},
   "outputs": [
    {
     "data": {
      "image/png": "[encoded data removed]",
      "text/plain": [
       "<Figure size 432x288 with 1 Axes>"
      ]
     },
     "metadata": {
      "needs_background": "light"
     },
     "output_type": "display_data"
    }
   ],
   "source": [
    "lake_worth_pct.plot();"
   ]
  },
  {
   "cell_type": "code",
   "execution_count": 33,
   "metadata": {},
   "outputs": [],
   "source": [
    "from statsmodels.tsa.stattools import adfuller"
   ]
  },
  {
   "cell_type": "code",
   "execution_count": 34,
   "metadata": {},
   "outputs": [
    {
     "data": {
      "text/plain": [
       "(-1.2355837099887692,\n",
       " 0.6581043201156883,\n",
       " 4,\n",
       " 56,\n",
       " {'1%': -3.552928203580539,\n",
       "  '5%': -2.9147306250000002,\n",
       "  '10%': -2.595137155612245},\n",
       " 1012.5247924668392)"
      ]
     },
     "execution_count": 34,
     "metadata": {},
     "output_type": "execute_result"
    }
   ],
   "source": [
    "adfuller(lake_worth_pct)"
   ]
  },
  {
   "cell_type": "code",
   "execution_count": 35,
   "metadata": {},
   "outputs": [],
   "source": [
    "from sklearn.model_selection import TimeSeriesSplit\n",
    "from statsmodels.tsa.arima.model import ARIMA\n",
    "from statsmodels.graphics.tsaplots import plot_acf, plot_pacf"
   ]
  },
  {
   "cell_type": "code",
   "execution_count": 36,
   "metadata": {},
   "outputs": [],
   "source": [
    "cutoff = '2017-05'\n",
    "train = lake_worth_pct[:cutoff]\n",
    "test = lake_worth_pct[cutoff:]"
   ]
  },
  {
   "cell_type": "code",
   "execution_count": 37,
   "metadata": {},
   "outputs": [
    {
     "data": {
      "image/png": "[encoded data removed]",
      "text/plain": [
       "<Figure size 432x288 with 1 Axes>"
      ]
     },
     "metadata": {
      "needs_background": "light"
     },
     "output_type": "display_data"
    }
   ],
   "source": [
    "#Plot_acf is used to identify the q parameter\n",
    "plot_acf(train);"
   ]
  },
  {
   "cell_type": "code",
   "execution_count": 38,
   "metadata": {},
   "outputs": [
    {
     "data": {
      "image/png": "[encoded data removed]",
      "text/plain": [
       "<Figure size 432x288 with 1 Axes>"
      ]
     },
     "metadata": {
      "needs_background": "light"
     },
     "output_type": "display_data"
    }
   ],
   "source": [
    "plot_pacf(train,method='ywm');"
   ]
  },
  {
   "cell_type": "code",
   "execution_count": 39,
   "metadata": {
    "scrolled": true
   },
   "outputs": [
    {
     "name": "stderr",
     "output_type": "stream",
     "text": [
      "/Users/johnnahra/opt/anaconda3/envs/learn-env/lib/python3.8/site-packages/statsmodels/tsa/base/tsa_model.py:524: ValueWarning: No frequency information was provided, so inferred frequency MS will be used.\n",
      "  warnings.warn('No frequency information was'\n",
      "/Users/johnnahra/opt/anaconda3/envs/learn-env/lib/python3.8/site-packages/statsmodels/tsa/base/tsa_model.py:524: ValueWarning: No frequency information was provided, so inferred frequency MS will be used.\n",
      "  warnings.warn('No frequency information was'\n",
      "/Users/johnnahra/opt/anaconda3/envs/learn-env/lib/python3.8/site-packages/statsmodels/tsa/base/tsa_model.py:524: ValueWarning: No frequency information was provided, so inferred frequency MS will be used.\n",
      "  warnings.warn('No frequency information was'\n"
     ]
    }
   ],
   "source": [
    "ar_1 = ARIMA(train, order=(0, 2, 0)).fit()\n",
    "\n",
    "# We put a typ='levels' to convert our predictions to remove the differencing performed.\n",
    "train_pred = ar_1.predict()"
   ]
  },
  {
   "cell_type": "code",
   "execution_count": 40,
   "metadata": {},
   "outputs": [
    {
     "data": {
      "text/plain": [
       "127211.82276932435"
      ]
     },
     "execution_count": 40,
     "metadata": {},
     "output_type": "execute_result"
    }
   ],
   "source": [
    "from sklearn.metrics import mean_squared_error\n",
    "import numpy as np\n",
    "\n",
    "np.sqrt(mean_squared_error(train, train_pred))"
   ]
  },
  {
   "cell_type": "code",
   "execution_count": 41,
   "metadata": {},
   "outputs": [
    {
     "data": {
      "text/html": [
       "<table class=\"simpletable\">\n",
       "<caption>SARIMAX Results</caption>\n",
       "<tr>\n",
       "  <th>Dep. Variable:</th>      <td>home price</td>    <th>  No. Observations:  </th>    <td>50</td>   \n",
       "</tr>\n",
       "<tr>\n",
       "  <th>Model:</th>            <td>ARIMA(0, 2, 0)</td>  <th>  Log Likelihood     </th> <td>-506.609</td>\n",
       "</tr>\n",
       "<tr>\n",
       "  <th>Date:</th>            <td>Thu, 30 Mar 2023</td> <th>  AIC                </th> <td>1015.218</td>\n",
       "</tr>\n",
       "<tr>\n",
       "  <th>Time:</th>                <td>00:28:16</td>     <th>  BIC                </th> <td>1017.089</td>\n",
       "</tr>\n",
       "<tr>\n",
       "  <th>Sample:</th>             <td>04-01-2013</td>    <th>  HQIC               </th> <td>1015.925</td>\n",
       "</tr>\n",
       "<tr>\n",
       "  <th></th>                   <td>- 05-01-2017</td>   <th>                     </th>     <td> </td>   \n",
       "</tr>\n",
       "<tr>\n",
       "  <th>Covariance Type:</th>        <td>opg</td>       <th>                     </th>     <td> </td>   \n",
       "</tr>\n",
       "</table>\n",
       "<table class=\"simpletable\">\n",
       "<tr>\n",
       "     <td></td>       <th>coef</th>     <th>std err</th>      <th>z</th>      <th>P>|z|</th>  <th>[0.025</th>    <th>0.975]</th>  \n",
       "</tr>\n",
       "<tr>\n",
       "  <th>sigma2</th> <td> 8.257e+07</td> <td> 1.51e+07</td> <td>    5.473</td> <td> 0.000</td> <td>  5.3e+07</td> <td> 1.12e+08</td>\n",
       "</tr>\n",
       "</table>\n",
       "<table class=\"simpletable\">\n",
       "<tr>\n",
       "  <th>Ljung-Box (L1) (Q):</th>     <td>10.27</td> <th>  Jarque-Bera (JB):  </th> <td>0.28</td>\n",
       "</tr>\n",
       "<tr>\n",
       "  <th>Prob(Q):</th>                <td>0.00</td>  <th>  Prob(JB):          </th> <td>0.87</td>\n",
       "</tr>\n",
       "<tr>\n",
       "  <th>Heteroskedasticity (H):</th> <td>3.58</td>  <th>  Skew:              </th> <td>0.10</td>\n",
       "</tr>\n",
       "<tr>\n",
       "  <th>Prob(H) (two-sided):</th>    <td>0.01</td>  <th>  Kurtosis:          </th> <td>3.32</td>\n",
       "</tr>\n",
       "</table><br/><br/>Warnings:<br/>[1] Covariance matrix calculated using the outer product of gradients (complex-step)."
      ],
      "text/plain": [
       "<class 'statsmodels.iolib.summary.Summary'>\n",
       "\"\"\"\n",
       "                               SARIMAX Results                                \n",
       "==============================================================================\n",
       "Dep. Variable:             home price   No. Observations:                   50\n",
       "Model:                 ARIMA(0, 2, 0)   Log Likelihood                -506.609\n",
       "Date:                Thu, 30 Mar 2023   AIC                           1015.218\n",
       "Time:                        00:28:16   BIC                           1017.089\n",
       "Sample:                    04-01-2013   HQIC                          1015.925\n",
       "                         - 05-01-2017                                         \n",
       "Covariance Type:                  opg                                         \n",
       "==============================================================================\n",
       "                 coef    std err          z      P>|z|      [0.025      0.975]\n",
       "------------------------------------------------------------------------------\n",
       "sigma2      8.257e+07   1.51e+07      5.473      0.000     5.3e+07    1.12e+08\n",
       "===================================================================================\n",
       "Ljung-Box (L1) (Q):                  10.27   Jarque-Bera (JB):                 0.28\n",
       "Prob(Q):                              0.00   Prob(JB):                         0.87\n",
       "Heteroskedasticity (H):               3.58   Skew:                             0.10\n",
       "Prob(H) (two-sided):                  0.01   Kurtosis:                         3.32\n",
       "===================================================================================\n",
       "\n",
       "Warnings:\n",
       "[1] Covariance matrix calculated using the outer product of gradients (complex-step).\n",
       "\"\"\""
      ]
     },
     "execution_count": 41,
     "metadata": {},
     "output_type": "execute_result"
    }
   ],
   "source": [
    "ar_1.summary()"
   ]
  },
  {
   "cell_type": "code",
   "execution_count": 42,
   "metadata": {},
   "outputs": [],
   "source": [
    "y_pred = ar_1.get_forecast(len(test.index))\n",
    "y_pred_df = y_pred.conf_int(alpha = 0.05) \n",
    "y_pred_df[\"Predictions\"] = ar_1.predict(start = y_pred_df.index[0], end = y_pred_df.index[-1])\n",
    "y_pred_df.index = test.index\n",
    "y_pred_out = y_pred_df[\"Predictions\"]"
   ]
  },
  {
   "cell_type": "code",
   "execution_count": 43,
   "metadata": {},
   "outputs": [
    {
     "data": {
      "text/plain": [
       "180587.83643054886"
      ]
     },
     "execution_count": 43,
     "metadata": {},
     "output_type": "execute_result"
    }
   ],
   "source": [
    "np.sqrt(mean_squared_error(test, y_pred_out))"
   ]
  },
  {
   "cell_type": "code",
   "execution_count": 43,
   "metadata": {},
   "outputs": [
    {
     "data": {
      "image/png": "[encoded data removed]",
      "text/plain": [
       "<Figure size 432x288 with 1 Axes>"
      ]
     },
     "metadata": {
      "needs_background": "light"
     },
     "output_type": "display_data"
    }
   ],
   "source": [
    "import matplotlib.pyplot as plt\n",
    "%matplotlib inline\n",
    "\n",
    "plt.plot(train, color = \"black\",label='Train')\n",
    "plt.plot(test, color = \"red\",label='Test')\n",
    "plt.ylabel('Home Price')\n",
    "plt.xlabel('Date')\n",
    "plt.xticks(rotation=45)\n",
    "plt.title(\"Train/Test split for Home Price Data\")\n",
    "plt.plot(y_pred_out, color='green', label = 'Predictions')\n",
    "plt.legend();"
   ]
  },
  {
   "cell_type": "code",
   "execution_count": 48,
   "metadata": {},
   "outputs": [
    {
     "name": "stdout",
     "output_type": "stream",
     "text": [
      "Forecasted percent return in 2019: -16.72%\n",
      "Forecasted percent return in 2021: -24.35%\n",
      "Forecasted percent return in 2023: -31.98%\n"
     ]
    },
    {
     "data": {
      "image/png": "[encoded data removed]",
      "text/plain": [
       "<Figure size 1008x720 with 1 Axes>"
      ]
     },
     "metadata": {},
     "output_type": "display_data"
    }
   ],
   "source": [
    "output = ar_1.predict(start='2018-04-01',end='2023-04-01')\n",
    "\n",
    "import seaborn as sns\n",
    "sns.set(font_scale = 1)\n",
    "\n",
    "plt.figure(figsize=(14,10))\n",
    "plt.plot(train, color = \"black\",label='Training Data')\n",
    "plt.plot(test, color = \"red\",label='Testing Data')\n",
    "plt.ylabel('Home Price ($)', fontsize=24)\n",
    "plt.xlabel('Date', fontsize=24)\n",
    "plt.xticks(fontsize=20)\n",
    "plt.yticks(fontsize=20)\n",
    "plt.title(\"New York City Home Prices\", fontsize=24)\n",
    "plt.plot(y_pred_out, color='green', label = 'Test Data Predictions')\n",
    "plt.plot(output, color='blue', label = 'Model Forecast')\n",
    "plt.legend(fontsize=16);\n",
    "\n",
    "pred1 = (np.mean(output[:12]))\n",
    "pred3 = (np.mean(output[:36]))\n",
    "pred5 = (np.mean(output[:60]))\n",
    "actual = test['home price'].mean()\n",
    "change1 = ((pred1-actual)/actual) * 100\n",
    "change3 = ((pred3-actual)/actual) * 100\n",
    "change5 = ((pred5-actual)/actual) * 100\n",
    "\n",
    "print(f'Forecasted percent return in 2019: {round(change1, 2)}%')\n",
    "print(f'Forecasted percent return in 2021: {round(change3, 2)}%')\n",
    "print(f'Forecasted percent return in 2023: {round(change5, 2)}%')"
   ]
  },
  {
   "cell_type": "code",
   "execution_count": null,
   "metadata": {},
   "outputs": [],
   "source": []
  }
 ],
 "metadata": {
  "kernelspec": {
   "display_name": "Python (learn-env)",
   "language": "python",
   "name": "learn-env"
  },
  "language_info": {
   "codemirror_mode": {
    "name": "ipython",
    "version": 3
   },
   "file_extension": ".py",
   "mimetype": "text/x-python",
   "name": "python",
   "nbconvert_exporter": "python",
   "pygments_lexer": "ipython3",
   "version": "3.8.5"
  }
 },
 "nbformat": 4,
 "nbformat_minor": 4
}
